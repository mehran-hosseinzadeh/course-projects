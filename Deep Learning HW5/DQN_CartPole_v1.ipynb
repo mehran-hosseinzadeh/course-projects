{
  "nbformat": 4,
  "nbformat_minor": 0,
  "metadata": {
    "colab": {
      "name": "DQN_CartPole_v1.ipynb",
      "provenance": [],
      "collapsed_sections": []
    },
    "kernelspec": {
      "name": "python3",
      "display_name": "Python 3"
    },
    "language_info": {
      "name": "python"
    },
    "accelerator": "GPU"
  },
  "cells": [
    {
      "cell_type": "code",
      "metadata": {
        "id": "Mz_NJJzta_XP"
      },
      "source": [
        "# Mehran Hosseinzadeh\n",
        "import torch\n",
        "import copy\n",
        "from collections import deque\n",
        "import random\n",
        "import gym\n",
        "import matplotlib.pyplot as plt\n",
        "from tqdm import tqdm"
      ],
      "execution_count": 1,
      "outputs": []
    },
    {
      "cell_type": "code",
      "metadata": {
        "id": "Wd1xTMM0b6RU"
      },
      "source": [
        "class DQN:\n",
        "\n",
        "    def __init__(self, layer_nums, lr, copy_count, experience_replay_size):\n",
        "        self.q_network = self.build_q_network(layer_nums)\n",
        "        self.target_network = copy.deepcopy(self.q_network)\n",
        "        self.q_network.cuda()\n",
        "        self.target_network.cuda()\n",
        "        self.loss = torch.nn.MSELoss()\n",
        "        self.optimizer = torch.optim.Adam(self.q_network.parameters(), lr=lr)\n",
        "\n",
        "        self.copy_count = copy_count\n",
        "        self.counter = 0\n",
        "        # testing different gammas\n",
        "        # self.gamma = torch.tensor(1).float().cuda()\n",
        "        self.gamma = torch.tensor(0.95).float().cuda()\n",
        "        self.experience_replay = deque(maxlen=experience_replay_size)\n",
        "        return\n",
        "\n",
        "    def build_q_network(self, layer_nums):\n",
        "      # building layers as: linear connected layers with tanh activation, except for the last one where activation is y=x\n",
        "        layers = []\n",
        "        for i in range(len(layer_nums) - 1):\n",
        "            linear_layer = torch.nn.Linear(layer_nums[i], layer_nums[i + 1])\n",
        "            if i < len(layer_nums) - 2:\n",
        "                layers += (linear_layer, torch.nn.Tanh())\n",
        "            else:\n",
        "                layers += (linear_layer, torch.nn.Identity())\n",
        "        # building network in pytorch by array of designed layers\n",
        "        return torch.nn.Sequential(*layers)\n",
        "\n",
        "    # chossing action via epsioln greedy algorithm\n",
        "    def get_action_from_q_network(self, state, action_space_len, epsilon):\n",
        "        with torch.no_grad():\n",
        "            q = self.q_network(torch.from_numpy(state).float().cuda())\n",
        "        _, a = torch.max(q, axis=0)\n",
        "        if torch.rand(1, ).item() < epsilon:\n",
        "            return a\n",
        "        else:\n",
        "            return torch.randint(0, action_space_len, (1,))\n",
        "    # chossing value via target network\n",
        "    def get_q_next_from_target_network(self, state):\n",
        "        with torch.no_grad():\n",
        "            q = self.target_network(state)\n",
        "        next_q, _ = torch.max(q, axis=1)\n",
        "        return next_q\n",
        "\n",
        "    def sample_from_experience(self, sample_size):\n",
        "        if len(self.experience_replay) < sample_size:\n",
        "            sample_size = len(self.experience_replay)\n",
        "        sample = random.sample(self.experience_replay, sample_size)\n",
        "        state = torch.tensor([experience[0] for experience in sample]).float()\n",
        "        action = torch.tensor([experience[1] for experience in sample]).float()\n",
        "        reward = torch.tensor([experience[2] for experience in sample]).float()\n",
        "        next_state = torch.tensor([experience[3] for experience in sample]).float()\n",
        "        return state, action, reward, next_state\n",
        "\n",
        "    def train(self, batch_size):\n",
        "        # experience replay\n",
        "        state, action, reward, next_state = self.sample_from_experience(sample_size=batch_size)\n",
        "        # updating target every copy_count iterations\n",
        "        if self.counter % self.copy_count == 0:\n",
        "            self.target_network.load_state_dict(self.q_network.state_dict())\n",
        "        self.counter += 1\n",
        "\n",
        "        # predict expected return of current state using main network\n",
        "        q = self.q_network(state.cuda())\n",
        "        predicted_value, _ = torch.max(q, axis=1)\n",
        "\n",
        "        # get target return using target network\n",
        "        q_next = self.get_q_next_from_target_network(next_state.cuda())\n",
        "        target_value = reward.cuda() + self.gamma * q_next\n",
        "\n",
        "        # calc loss and back prop.\n",
        "        loss = self.loss(predicted_value, target_value)\n",
        "        self.optimizer.zero_grad()\n",
        "        loss.backward(retain_graph=True)\n",
        "        self.optimizer.step()\n",
        "\n",
        "        return loss.item()"
      ],
      "execution_count": 5,
      "outputs": []
    },
    {
      "cell_type": "code",
      "metadata": {
        "colab": {
          "base_uri": "https://localhost:8080/"
        },
        "id": "XuygMbvNg-HG",
        "outputId": "11e7bb98-0b0e-4c29-ce2e-8558fda32c48"
      },
      "source": [
        "env = gym.make('CartPole-v0')\n",
        "input_dimension = env.observation_space.shape[0]\n",
        "output_dimension = env.action_space.n\n",
        "torch.manual_seed(1000)\n",
        "experience_replay_size = 256\n",
        "agent = DQN(layer_nums=[input_dimension, 64, 32, 16, output_dimension], lr=0.01, copy_count=5,\n",
        "                  experience_replay_size=experience_replay_size)\n",
        "\n",
        "\n",
        "rewards = []\n",
        "num_episodes = 7500\n",
        "epsilon = 1\n",
        "\n",
        "# collecting first experience\n",
        "j = 0\n",
        "for i in range(experience_replay_size):\n",
        "    observation = env.reset()\n",
        "    done = False\n",
        "    while not done and j <= experience_replay_size:\n",
        "        A = agent.get_action_from_q_network(observation, env.action_space.n, epsilon=1)\n",
        "        next_observation, reward, done, _ = env.step(A.item())\n",
        "        agent.experience_replay.append([observation, A.item(), reward, next_observation])\n",
        "        observation = next_observation\n",
        "        j += 1\n",
        "\n",
        "# traing after each k experiences are gathered\n",
        "k = 128\n",
        "for i in tqdm(range(num_episodes)):\n",
        "    observation = env.reset()\n",
        "    done = False\n",
        "    total_reward = 0\n",
        "    total_loss = 0\n",
        "    while not done:\n",
        "        A = agent.get_action_from_q_network(observation, env.action_space.n, epsilon)\n",
        "        next_observation, reward, done, _ = env.step(A.item())\n",
        "        agent.experience_replay.append([observation, A.item(), reward, next_observation])\n",
        "\n",
        "        observation = next_observation\n",
        "        total_reward += reward\n",
        "        if k == 128:\n",
        "            for j in range(4):\n",
        "                loss = agent.train(batch_size=16)\n",
        "                total_loss += loss\n",
        "            k = 0\n",
        "        else:\n",
        "            k += 1\n",
        "    # decreasing exploration as training goes on\n",
        "    if epsilon > 0.05:\n",
        "        epsilon -= (1 / 5000)\n",
        "\n",
        "    rewards.append(total_reward)"
      ],
      "execution_count": 7,
      "outputs": [
        {
          "output_type": "stream",
          "text": [
            "100%|██████████| 7500/7500 [01:07<00:00, 111.72it/s]\n"
          ],
          "name": "stderr"
        }
      ]
    },
    {
      "cell_type": "code",
      "metadata": {
        "colab": {
          "base_uri": "https://localhost:8080/",
          "height": 296
        },
        "id": "Ft5kpWskoUUM",
        "outputId": "f7ca1b4c-4390-4116-dde7-5fe844ad828a"
      },
      "source": [
        "# plotting rewards as wanted\n",
        "plt.plot(rewards)\n",
        "plt.xlabel(\"Episode\")\n",
        "plt.ylabel(\"Reward\")\n",
        "# as observed the reward is overally increasing"
      ],
      "execution_count": 8,
      "outputs": [
        {
          "output_type": "execute_result",
          "data": {
            "text/plain": [
              "Text(0, 0.5, 'Reward')"
            ]
          },
          "metadata": {
            "tags": []
          },
          "execution_count": 8
        },
        {
          "output_type": "display_data",
          "data": {
            "image/png": "[encoded data removed]",
            "text/plain": [
              "<Figure size 432x288 with 1 Axes>"
            ]
          },
          "metadata": {
            "tags": [],
            "needs_background": "light"
          }
        }
      ]
    }
  ]
}
